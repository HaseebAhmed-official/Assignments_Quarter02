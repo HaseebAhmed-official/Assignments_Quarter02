{
  "nbformat": 4,
  "nbformat_minor": 0,
  "metadata": {
    "colab": {
      "provenance": [],
      "authorship_tag": "ABX9TyMpZWc8xOyFJoAuw6cb8FLE",
      "include_colab_link": true
    },
    "kernelspec": {
      "name": "python3",
      "display_name": "Python 3"
    },
    "language_info": {
      "name": "python"
    }
  },
  "cells": [
    {
      "cell_type": "markdown",
      "metadata": {
        "id": "view-in-github",
        "colab_type": "text"
      },
      "source": [
        "<a href=\"https://colab.research.google.com/github/HaseebAhmed-official/Assignments_Quarter02/blob/main/Assignment_04.ipynb\" target=\"_parent\"><img src=\"https://colab.research.google.com/assets/colab-badge.svg\" alt=\"Open In Colab\"/></a>"
      ]
    },
    {
      "cell_type": "code",
      "execution_count": null,
      "metadata": {
        "collapsed": true,
        "id": "r5L7F2k2BEaw"
      },
      "outputs": [],
      "source": [
        "!pip install -U -q aisuite"
      ]
    },
    {
      "cell_type": "code",
      "source": [
        "!pip install -U -q 'aisuite[anthropic]'"
      ],
      "metadata": {
        "id": "DjaE1wGHP0fL"
      },
      "execution_count": null,
      "outputs": []
    },
    {
      "cell_type": "code",
      "source": [
        "!pip install -U -q 'aisuite[all]'"
      ],
      "metadata": {
        "collapsed": true,
        "id": "4TDSP3BKBYJ7"
      },
      "execution_count": null,
      "outputs": []
    },
    {
      "cell_type": "code",
      "source": [
        "from google.colab import userdata\n",
        "api_key1=userdata.get('CLAUDE_API_KEY')\n",
        "if api_key1:\n",
        "  print('CLAUDE_API_KEY is set')\n",
        "else:\n",
        "  print('CLAUDE_API_KEY is not set')"
      ],
      "metadata": {
        "colab": {
          "base_uri": "https://localhost:8080/"
        },
        "id": "LDdRJxN-Blob",
        "outputId": "cafc8e06-09ba-4007-acaf-cb66df685c16"
      },
      "execution_count": 68,
      "outputs": [
        {
          "output_type": "stream",
          "name": "stdout",
          "text": [
            "CLAUDE_API_KEY is set\n"
          ]
        }
      ]
    },
    {
      "cell_type": "code",
      "source": [
        "from google.colab import userdata\n",
        "api_key2=userdata.get('GROQ_API_KEY')\n",
        "if api_key2:\n",
        "  print('GROQ_API_KEY is set')\n",
        "else:\n",
        "  print('GROQ_API_KEY is not set')\n"
      ],
      "metadata": {
        "colab": {
          "base_uri": "https://localhost:8080/"
        },
        "id": "ZPqEQKHfQEtU",
        "outputId": "07016267-9b86-4d5b-ec08-162ce498d5bb"
      },
      "execution_count": null,
      "outputs": [
        {
          "output_type": "stream",
          "name": "stdout",
          "text": [
            "GROQ_API_KEY is set\n"
          ]
        }
      ]
    },
    {
      "cell_type": "code",
      "source": [
        "import os\n",
        "os.environ['GROQ_API_KEY'] = api_key2\n",
        "os.environ['CLAUDE_API_KEY'] =api_key1"
      ],
      "metadata": {
        "id": "JzwFGiw2Broi"
      },
      "execution_count": 69,
      "outputs": []
    },
    {
      "cell_type": "code",
      "source": [
        "import aisuite as ai\n",
        "client = ai.Client()\n",
        "# Models should be in 'provider:model' format\n",
        "models = [\n",
        "    \"groq:llama3-groq-70b-8192-tool-use-preview\",\n",
        "    \"anthropic:claude-3-5-sonnet-20240620\"\n",
        "    ]\n",
        "\n",
        "messages = [\n",
        "    {\"role\": \"system\", \"content\": \"Respond in Pirate English.\"},\n",
        "    {\"role\": \"user\", \"content\": \"Tell me a joke.\"},\n",
        "]\n",
        "\n",
        "for Model in models:\n",
        "    response = client.chat.completions.create(\n",
        "        model=Model,\n",
        "        messages=messages,\n",
        "        temperature=0.75\n",
        "    )\n",
        "    print(response.choices[0].message.content)"
      ],
      "metadata": {
        "id": "G9LIz4r4UMZW"
      },
      "execution_count": null,
      "outputs": []
    },
    {
      "cell_type": "markdown",
      "source": [
        "### **I GOT THESE 2 ERRORS:**\n",
        "**ValueError:** Invalid model format. Expected 'provider:model'\n",
        "\n",
        "**TypeError:** Client.__init__() got an unexpected keyword argument 'proxies'\n",
        "***This error occurs when i used Groq model***\n"
      ],
      "metadata": {
        "id": "1bJbFKFnIdRr"
      }
    }
  ]
}